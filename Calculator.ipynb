{
 "cells": [
  {
   "cell_type": "markdown",
   "metadata": {},
   "source": [
    "A simple calculator with +,- & C(clear) functions"
   ]
  },
  {
   "cell_type": "code",
   "execution_count": 2,
   "metadata": {},
   "outputs": [],
   "source": [
    "import tkinter as tk\n",
    "\n",
    "class Calculator:\n",
    "    def __init__(self, master):\n",
    "        self.master = master\n",
    "        master.title(\"Calculator\")\n",
    "\n",
    "        self.total = 0\n",
    "        self.entered_number = 0\n",
    "\n",
    "        self.total_label_text = tk.IntVar()\n",
    "        self.total_label_text.set(self.total)\n",
    "        self.total_label = tk.Label(master, textvariable=self.total_label_text)\n",
    "\n",
    "        self.label = tk.Label(master, text=\"Total:\")\n",
    "\n",
    "        vcmd = master.register(self.validate)\n",
    "\n",
    "        self.entry = tk.Entry(master, validate=\"key\", validatecommand=(vcmd, '%P'))\n",
    "\n",
    "        self.add_button = tk.Button(master, text=\"+\", command=lambda: self.update(\"add\"))\n",
    "        self.sub_button = tk.Button(master, text=\"-\", command=lambda: self.update(\"sub\"))\n",
    "        self.clear_button = tk.Button(master, text=\"C\", command=lambda: self.update(\"clear\"))\n",
    "\n",
    "        # Calculator layout\n",
    "        self.label.grid(row=0, column=0, sticky=tk.W)      \n",
    "        self.total_label.grid(row=0, column=1, columnspan=2, sticky=tk.E)\n",
    "        self.entry.grid(row=1, column=0, columnspan=3, sticky=tk.W+tk.E)\n",
    "\n",
    "        self.add_button.grid(row=2, column=0)\n",
    "        self.sub_button.grid(row=2, column=1)\n",
    "        self.clear_button.grid(row=2, column=2, sticky=tk.W+tk.E)\n",
    "\n",
    "    def validate(self, new_text):\n",
    "        if not new_text:\n",
    "            self.entered_number = 0\n",
    "            return True\n",
    "        try:\n",
    "            self.entered_number = int(new_text)\n",
    "            return True\n",
    "        except ValueError:\n",
    "            return False\n",
    "\n",
    "    def update(self, method):\n",
    "        if method == \"add\":\n",
    "            self.total += self.entered_number\n",
    "        elif method == \"sub\":\n",
    "            self.total -= self.entered_number\n",
    "        else:\n",
    "            self.total = 0\n",
    "\n",
    "        self.total_label_text.set(self.total)\n",
    "        self.entry.delete(0, tk.END)\n",
    "\n",
    "root = tk.Tk()\n",
    "my_gui = Calculator(root)\n",
    "root.mainloop()"
   ]
  },
  {
   "cell_type": "code",
   "execution_count": null,
   "metadata": {},
   "outputs": [],
   "source": []
  }
 ],
 "metadata": {
  "kernelspec": {
   "display_name": "Python 3",
   "language": "python",
   "name": "python3"
  },
  "language_info": {
   "codemirror_mode": {
    "name": "ipython",
    "version": 3
   },
   "file_extension": ".py",
   "mimetype": "text/x-python",
   "name": "python",
   "nbconvert_exporter": "python",
   "pygments_lexer": "ipython3",
   "version": "3.6.0"
  }
 },
 "nbformat": 4,
 "nbformat_minor": 2
}
